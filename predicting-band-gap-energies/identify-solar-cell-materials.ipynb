{
 "cells": [
  {
   "cell_type": "markdown",
   "metadata": {},
   "source": [
    "# Select Solar Cell Materials\n",
    "Here, we perform a more advanced materials selection than the one outlined in `evaluate-meredig-predictions`. Now, we incorporate both the predicted stability and band gap energy to find materials that are the most likely to be both stable and have a favorable band gap energy"
   ]
  },
  {
   "cell_type": "code",
   "execution_count": 1,
   "metadata": {},
   "outputs": [],
   "source": [
    "import pandas as pd\n",
    "import numpy as np\n",
    "from scipy.stats import rankdata"
   ]
  },
  {
   "cell_type": "markdown",
   "metadata": {},
   "source": [
    "## Load in the Predictions\n",
    "The previous notebook saved them in `meredig_bandgap_predictions.prop`"
   ]
  },
  {
   "cell_type": "code",
   "execution_count": 2,
   "metadata": {},
   "outputs": [
    {
     "name": "stdout",
     "output_type": "stream",
     "text": [
      "Loaded 4532 predictions\n"
     ]
    }
   ],
   "source": [
    "results = pd.read_csv('meredig_bandgap_predictions.prop')\n",
    "print('Loaded %d predictions'%len(results))"
   ]
  },
  {
   "cell_type": "code",
   "execution_count": 3,
   "metadata": {},
   "outputs": [
    {
     "data": {
      "text/html": [
       "<div>\n",
       "<table border=\"1\" class=\"dataframe\">\n",
       "  <thead>\n",
       "    <tr style=\"text-align: right;\">\n",
       "      <th></th>\n",
       "      <th>Entry</th>\n",
       "      <th>current_known_FE_measured</th>\n",
       "      <th>current_known_FE_predicted</th>\n",
       "      <th>ML_stability_measured</th>\n",
       "      <th>ML_stability_predicted</th>\n",
       "      <th>heuristic_stability_measured</th>\n",
       "      <th>heuristic_stability_predicted</th>\n",
       "      <th>bandgap_measured</th>\n",
       "      <th>bandgap_predicted</th>\n",
       "      <th>Unnamed: 9</th>\n",
       "    </tr>\n",
       "  </thead>\n",
       "  <tbody>\n",
       "    <tr>\n",
       "      <th>0</th>\n",
       "      <td>HPd5F9</td>\n",
       "      <td>-1.096714</td>\n",
       "      <td>None</td>\n",
       "      <td>0.425405</td>\n",
       "      <td>None</td>\n",
       "      <td>0.300007</td>\n",
       "      <td>None</td>\n",
       "      <td>None</td>\n",
       "      <td>1.079357</td>\n",
       "      <td>NaN</td>\n",
       "    </tr>\n",
       "    <tr>\n",
       "      <th>1</th>\n",
       "      <td>HPt5F9</td>\n",
       "      <td>-1.012836</td>\n",
       "      <td>None</td>\n",
       "      <td>0.241396</td>\n",
       "      <td>None</td>\n",
       "      <td>0.270033</td>\n",
       "      <td>None</td>\n",
       "      <td>None</td>\n",
       "      <td>0.132911</td>\n",
       "      <td>NaN</td>\n",
       "    </tr>\n",
       "    <tr>\n",
       "      <th>2</th>\n",
       "      <td>HBr6F7</td>\n",
       "      <td>-0.737588</td>\n",
       "      <td>None</td>\n",
       "      <td>0.359994</td>\n",
       "      <td>None</td>\n",
       "      <td>0.221127</td>\n",
       "      <td>None</td>\n",
       "      <td>None</td>\n",
       "      <td>4.129982</td>\n",
       "      <td>NaN</td>\n",
       "    </tr>\n",
       "    <tr>\n",
       "      <th>3</th>\n",
       "      <td>H3NF6</td>\n",
       "      <td>-0.904819</td>\n",
       "      <td>None</td>\n",
       "      <td>0.297204</td>\n",
       "      <td>None</td>\n",
       "      <td>0.216766</td>\n",
       "      <td>None</td>\n",
       "      <td>None</td>\n",
       "      <td>6.658048</td>\n",
       "      <td>NaN</td>\n",
       "    </tr>\n",
       "    <tr>\n",
       "      <th>4</th>\n",
       "      <td>HSeF</td>\n",
       "      <td>-1.005354</td>\n",
       "      <td>None</td>\n",
       "      <td>0.257798</td>\n",
       "      <td>None</td>\n",
       "      <td>0.307043</td>\n",
       "      <td>None</td>\n",
       "      <td>None</td>\n",
       "      <td>3.695595</td>\n",
       "      <td>NaN</td>\n",
       "    </tr>\n",
       "  </tbody>\n",
       "</table>\n",
       "</div>"
      ],
      "text/plain": [
       "    Entry  current_known_FE_measured current_known_FE_predicted  \\\n",
       "0  HPd5F9                  -1.096714                       None   \n",
       "1  HPt5F9                  -1.012836                       None   \n",
       "2  HBr6F7                  -0.737588                       None   \n",
       "3   H3NF6                  -0.904819                       None   \n",
       "4    HSeF                  -1.005354                       None   \n",
       "\n",
       "   ML_stability_measured ML_stability_predicted  heuristic_stability_measured  \\\n",
       "0               0.425405                   None                      0.300007   \n",
       "1               0.241396                   None                      0.270033   \n",
       "2               0.359994                   None                      0.221127   \n",
       "3               0.297204                   None                      0.216766   \n",
       "4               0.257798                   None                      0.307043   \n",
       "\n",
       "  heuristic_stability_predicted bandgap_measured  bandgap_predicted  \\\n",
       "0                          None             None           1.079357   \n",
       "1                          None             None           0.132911   \n",
       "2                          None             None           4.129982   \n",
       "3                          None             None           6.658048   \n",
       "4                          None             None           3.695595   \n",
       "\n",
       "   Unnamed: 9  \n",
       "0         NaN  \n",
       "1         NaN  \n",
       "2         NaN  \n",
       "3         NaN  \n",
       "4         NaN  "
      ]
     },
     "execution_count": 3,
     "metadata": {},
     "output_type": "execute_result"
    }
   ],
   "source": [
    "results.head()"
   ]
  },
  {
   "cell_type": "markdown",
   "metadata": {},
   "source": [
    "This dataset contains many useful columns. First of all, we have the stability score from [Meredig *et al*](http://link.aps.org/doi/10.1103/PhysRevB.89.094104)  from both their machine learning model (`ML_stability_measured`) and their heuristic (`heuristic_stability_measured`). We also have the predicted band gap energy from our model (`bandgap_predicted`)"
   ]
  },
  {
   "cell_type": "markdown",
   "metadata": {},
   "source": [
    "## Get Only Entries with Target Band Gap\n",
    "Get entries that are predicted to have a band gap within the target range"
   ]
  },
  {
   "cell_type": "code",
   "execution_count": 4,
   "metadata": {},
   "outputs": [
    {
     "name": "stdout",
     "output_type": "stream",
     "text": [
      "Found 325 entries with desired band gap\n"
     ]
    }
   ],
   "source": [
    "results.query('bandgap_predicted >= 0.9 and bandgap_predicted <= 1.7', inplace=True)\n",
    "print('Found %d entries with desired band gap'%len(results))"
   ]
  },
  {
   "cell_type": "markdown",
   "metadata": {},
   "source": [
    "## Rank by Stability and Band Gap\n",
    "Rank each predicted entry based on the average stability score and the distance of the band gap from the center of the target range (1.3 eV). In both metrics, a lower score is better"
   ]
  },
  {
   "cell_type": "code",
   "execution_count": 5,
   "metadata": {},
   "outputs": [],
   "source": [
    "results['bandgap_distance'] = np.abs(results['bandgap_predicted'] - 1.3)"
   ]
  },
  {
   "cell_type": "markdown",
   "metadata": {},
   "source": [
    "Rank by stability"
   ]
  },
  {
   "cell_type": "code",
   "execution_count": 6,
   "metadata": {},
   "outputs": [],
   "source": [
    "results['stability_score'] = rankdata(results[['ML_stability_measured','heuristic_stability_measured']].apply(np.mean, axis=1))"
   ]
  },
  {
   "cell_type": "code",
   "execution_count": 7,
   "metadata": {},
   "outputs": [
    {
     "name": "stdout",
     "output_type": "stream",
     "text": [
      "Best entries by stability:\n"
     ]
    },
    {
     "data": {
      "text/html": [
       "<div>\n",
       "<table border=\"1\" class=\"dataframe\">\n",
       "  <thead>\n",
       "    <tr style=\"text-align: right;\">\n",
       "      <th></th>\n",
       "      <th>Entry</th>\n",
       "      <th>ML_stability_measured</th>\n",
       "      <th>heuristic_stability_measured</th>\n",
       "    </tr>\n",
       "  </thead>\n",
       "  <tbody>\n",
       "    <tr>\n",
       "      <th>2069</th>\n",
       "      <td>LaSb3S3</td>\n",
       "      <td>0.203818</td>\n",
       "      <td>0.208914</td>\n",
       "    </tr>\n",
       "    <tr>\n",
       "      <th>4080</th>\n",
       "      <td>ThTe4P4</td>\n",
       "      <td>0.209678</td>\n",
       "      <td>0.203684</td>\n",
       "    </tr>\n",
       "    <tr>\n",
       "      <th>3646</th>\n",
       "      <td>Lu2Te5S</td>\n",
       "      <td>0.205412</td>\n",
       "      <td>0.213897</td>\n",
       "    </tr>\n",
       "    <tr>\n",
       "      <th>458</th>\n",
       "      <td>AlSb7Cl6</td>\n",
       "      <td>0.217835</td>\n",
       "      <td>0.201813</td>\n",
       "    </tr>\n",
       "    <tr>\n",
       "      <th>962</th>\n",
       "      <td>Mn3.5HCl6</td>\n",
       "      <td>0.209531</td>\n",
       "      <td>0.210558</td>\n",
       "    </tr>\n",
       "  </tbody>\n",
       "</table>\n",
       "</div>"
      ],
      "text/plain": [
       "          Entry  ML_stability_measured  heuristic_stability_measured\n",
       "2069    LaSb3S3               0.203818                      0.208914\n",
       "4080    ThTe4P4               0.209678                      0.203684\n",
       "3646    Lu2Te5S               0.205412                      0.213897\n",
       "458    AlSb7Cl6               0.217835                      0.201813\n",
       "962   Mn3.5HCl6               0.209531                      0.210558"
      ]
     },
     "execution_count": 7,
     "metadata": {},
     "output_type": "execute_result"
    }
   ],
   "source": [
    "print('Best entries by stability:')\n",
    "results.sort_values('stability_score', ascending=True).head(5)[['Entry', 'ML_stability_measured', 'heuristic_stability_measured']]"
   ]
  },
  {
   "cell_type": "markdown",
   "metadata": {},
   "source": [
    "Rank by bandgap"
   ]
  },
  {
   "cell_type": "code",
   "execution_count": 8,
   "metadata": {},
   "outputs": [],
   "source": [
    "results['bandgap_score'] = rankdata(results['bandgap_distance'])"
   ]
  },
  {
   "cell_type": "code",
   "execution_count": 9,
   "metadata": {},
   "outputs": [
    {
     "name": "stdout",
     "output_type": "stream",
     "text": [
      "Best entries by band gap:\n"
     ]
    },
    {
     "data": {
      "text/html": [
       "<div>\n",
       "<table border=\"1\" class=\"dataframe\">\n",
       "  <thead>\n",
       "    <tr style=\"text-align: right;\">\n",
       "      <th></th>\n",
       "      <th>Entry</th>\n",
       "      <th>bandgap_predicted</th>\n",
       "    </tr>\n",
       "  </thead>\n",
       "  <tbody>\n",
       "    <tr>\n",
       "      <th>575</th>\n",
       "      <td>K5MnF8</td>\n",
       "      <td>1.318964</td>\n",
       "    </tr>\n",
       "    <tr>\n",
       "      <th>657</th>\n",
       "      <td>Ca3PI9</td>\n",
       "      <td>1.343025</td>\n",
       "    </tr>\n",
       "    <tr>\n",
       "      <th>1399</th>\n",
       "      <td>Sr3I9N</td>\n",
       "      <td>1.346771</td>\n",
       "    </tr>\n",
       "    <tr>\n",
       "      <th>1843</th>\n",
       "      <td>Cs5MnF9</td>\n",
       "      <td>1.243032</td>\n",
       "    </tr>\n",
       "    <tr>\n",
       "      <th>1037</th>\n",
       "      <td>CoB2F9</td>\n",
       "      <td>1.380256</td>\n",
       "    </tr>\n",
       "  </tbody>\n",
       "</table>\n",
       "</div>"
      ],
      "text/plain": [
       "        Entry  bandgap_predicted\n",
       "575    K5MnF8           1.318964\n",
       "657    Ca3PI9           1.343025\n",
       "1399   Sr3I9N           1.346771\n",
       "1843  Cs5MnF9           1.243032\n",
       "1037   CoB2F9           1.380256"
      ]
     },
     "execution_count": 9,
     "metadata": {},
     "output_type": "execute_result"
    }
   ],
   "source": [
    "print('Best entries by band gap:')\n",
    "results.sort_values('bandgap_score', ascending=True).head(5)[['Entry','bandgap_predicted']]"
   ]
  },
  {
   "cell_type": "markdown",
   "metadata": {},
   "source": [
    "## Rank by Both Scores\n",
    "Get the materials predicted to have good stability *and* band gap energies"
   ]
  },
  {
   "cell_type": "code",
   "execution_count": 10,
   "metadata": {},
   "outputs": [],
   "source": [
    "results['combined_score'] = results[['bandgap_score','stability_score']].apply(np.mean, axis=1)"
   ]
  },
  {
   "cell_type": "code",
   "execution_count": 11,
   "metadata": {},
   "outputs": [
    {
     "name": "stdout",
     "output_type": "stream",
     "text": [
      "Best materials by both scores:\n"
     ]
    },
    {
     "data": {
      "text/html": [
       "<div>\n",
       "<table border=\"1\" class=\"dataframe\">\n",
       "  <thead>\n",
       "    <tr style=\"text-align: right;\">\n",
       "      <th></th>\n",
       "      <th>Entry</th>\n",
       "      <th>bandgap_predicted</th>\n",
       "    </tr>\n",
       "  </thead>\n",
       "  <tbody>\n",
       "    <tr>\n",
       "      <th>1037</th>\n",
       "      <td>CoB2F9</td>\n",
       "      <td>1.380256</td>\n",
       "    </tr>\n",
       "    <tr>\n",
       "      <th>3414</th>\n",
       "      <td>YbAs7Cl6</td>\n",
       "      <td>1.156973</td>\n",
       "    </tr>\n",
       "    <tr>\n",
       "      <th>3884</th>\n",
       "      <td>Tl3OsO3.5</td>\n",
       "      <td>1.078918</td>\n",
       "    </tr>\n",
       "    <tr>\n",
       "      <th>1920</th>\n",
       "      <td>Cs8CoSe5</td>\n",
       "      <td>1.074358</td>\n",
       "    </tr>\n",
       "    <tr>\n",
       "      <th>421</th>\n",
       "      <td>Mg6SiTe8</td>\n",
       "      <td>1.119002</td>\n",
       "    </tr>\n",
       "    <tr>\n",
       "      <th>4404</th>\n",
       "      <td>PuMn1.5F8.5</td>\n",
       "      <td>1.489667</td>\n",
       "    </tr>\n",
       "    <tr>\n",
       "      <th>3011</th>\n",
       "      <td>TbP3Se</td>\n",
       "      <td>1.069602</td>\n",
       "    </tr>\n",
       "    <tr>\n",
       "      <th>3349</th>\n",
       "      <td>TmBr6N</td>\n",
       "      <td>1.102033</td>\n",
       "    </tr>\n",
       "    <tr>\n",
       "      <th>1919</th>\n",
       "      <td>Cs8FeSe5</td>\n",
       "      <td>1.048822</td>\n",
       "    </tr>\n",
       "    <tr>\n",
       "      <th>2609</th>\n",
       "      <td>Pm5LiTe8</td>\n",
       "      <td>1.079399</td>\n",
       "    </tr>\n",
       "  </tbody>\n",
       "</table>\n",
       "</div>"
      ],
      "text/plain": [
       "            Entry  bandgap_predicted\n",
       "1037       CoB2F9           1.380256\n",
       "3414     YbAs7Cl6           1.156973\n",
       "3884    Tl3OsO3.5           1.078918\n",
       "1920     Cs8CoSe5           1.074358\n",
       "421      Mg6SiTe8           1.119002\n",
       "4404  PuMn1.5F8.5           1.489667\n",
       "3011       TbP3Se           1.069602\n",
       "3349       TmBr6N           1.102033\n",
       "1919     Cs8FeSe5           1.048822\n",
       "2609     Pm5LiTe8           1.079399"
      ]
     },
     "execution_count": 11,
     "metadata": {},
     "output_type": "execute_result"
    }
   ],
   "source": [
    "print('Best materials by both scores:')\n",
    "results.sort_values('combined_score', ascending=True).head(10)[['Entry','bandgap_predicted']]"
   ]
  },
  {
   "cell_type": "markdown",
   "metadata": {},
   "source": [
    "We note that these materials are different than those reported in [Table 2](https://www.nature.com/articles/npjcompumats201628/tables/2) of our paper. The difference is due in part to differences in the version of Magpie used when originally performing this analysis, and the version included in the SI to the paper - highlighting the importance of provenance tracking tools!"
   ]
  },
  {
   "cell_type": "code",
   "execution_count": 12,
   "metadata": {},
   "outputs": [],
   "source": []
  }
 ],
 "metadata": {
  "kernelspec": {
   "display_name": "Python 3",
   "language": "python",
   "name": "python3"
  },
  "language_info": {
   "codemirror_mode": {
    "name": "ipython",
    "version": 3
   },
   "file_extension": ".py",
   "mimetype": "text/x-python",
   "name": "python",
   "nbconvert_exporter": "python",
   "pygments_lexer": "ipython3",
   "version": "3.6.2"
  }
 },
 "nbformat": 4,
 "nbformat_minor": 2
}
