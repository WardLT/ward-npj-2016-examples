{
 "cells": [
  {
   "cell_type": "code",
   "execution_count": 1,
   "metadata": {},
   "outputs": [
    {
     "name": "stdout",
     "output_type": "stream",
     "text": [
      "Starting download from file:///home/jovyan/data/magpie/dist/Magpie.jar\n",
      "Finished download of Magpie.jar\n"
     ]
    }
   ],
   "source": [
    "%AddJar file:///home/jovyan/data/magpie/dist/Magpie.jar"
   ]
  },
  {
   "cell_type": "markdown",
   "metadata": {},
   "source": [
    "# Find New Solar Cell Materials\n",
    "In this notebook, we apply a machine learning model to identify which new compounds predicted in a [2014 paper by Meredig *et al*](http://link.aps.org/doi/10.1103/PhysRevB.89.094104) are the most likely to be good solar cell materials. We will approach this problem by training a model on all of the band gap energies available in the OQMD, and using it to predict the band gap energies from Meredig's predictions. "
   ]
  },
  {
   "cell_type": "code",
   "execution_count": 2,
   "metadata": {},
   "outputs": [],
   "source": [
    "import magpie.data.utilities.modifiers.AddPropertyModifier;\n",
    "import magpie.data.materials.CompositionDataset;\n",
    "import magpie.models.BaseModel;\n",
    "import magpie.utility.UtilityOperations;\n",
    "import magpie.optimization.rankers.TargetEntryRanker;\n",
    "import scala.collection.JavaConversions._"
   ]
  },
  {
   "cell_type": "markdown",
   "metadata": {},
   "source": [
    "## Load in the OQMD Dataset\n",
    "We will first load in a copy of the dataset object used to compute attributes for the band gap model produced in `build-and-test-hierarchical-model`, then read in the OQMD dataset, and - finally - compute features for that data"
   ]
  },
  {
   "cell_type": "code",
   "execution_count": 3,
   "metadata": {},
   "outputs": [],
   "source": [
    "val data = UtilityOperations.loadState(\"bandgap-model-dataset-template.obj\").asInstanceOf[CompositionDataset]"
   ]
  },
  {
   "cell_type": "code",
   "execution_count": 4,
   "metadata": {},
   "outputs": [
    {
     "name": "stdout",
     "output_type": "stream",
     "text": [
      "Read in 228676 entries\n"
     ]
    }
   ],
   "source": [
    "data.importText(\"../datasets/oqmd_all.data\", null)\n",
    "println(s\"Read in ${data.NEntries} entries\")"
   ]
  },
  {
   "cell_type": "code",
   "execution_count": 5,
   "metadata": {},
   "outputs": [
    {
     "name": "stdout",
     "output_type": "stream",
     "text": [
      "WARNING: There are 2 elmental properties with missing values:\n",
      "\tElectronegativity: Ar He Ne\n",
      "\tMeltingT: He\n"
     ]
    }
   ],
   "source": [
    "data.generateAttributes();"
   ]
  },
  {
   "cell_type": "markdown",
   "metadata": {},
   "source": [
    "Set target property to be bandgap, remove entries without a value for bandgap"
   ]
  },
  {
   "cell_type": "code",
   "execution_count": 6,
   "metadata": {},
   "outputs": [],
   "source": [
    "data.setTargetProperty(\"bandgap\", false)"
   ]
  },
  {
   "cell_type": "markdown",
   "metadata": {},
   "source": [
    "## Train the ML Model\n",
    "We will first load in the model from the `build-and-test-hierarchical-model` notebook, and then re-train it on the full OQMD."
   ]
  },
  {
   "cell_type": "code",
   "execution_count": 7,
   "metadata": {},
   "outputs": [],
   "source": [
    "val model = UtilityOperations.loadState(\"bandgap-model-template.obj\").asInstanceOf[BaseModel]"
   ]
  },
  {
   "cell_type": "code",
   "execution_count": 8,
   "metadata": {},
   "outputs": [],
   "source": [
    "model.train(data)"
   ]
  },
  {
   "cell_type": "markdown",
   "metadata": {},
   "source": [
    "## Predict Bandgaps for Materials from Meredig *et al* (2014)\n",
    "In their paper, Meredig *et al* created a list of ~4500 compositions where they expect it to be possible to create a yet-undiscovered crystalline compound. The dataset file `meredig_predictions.dat` (taken from the Supplementary Information of that paper) contains these compositions, and a score for the predicted stability based on their ML model."
   ]
  },
  {
   "cell_type": "code",
   "execution_count": 9,
   "metadata": {},
   "outputs": [],
   "source": [
    "val meredigData = data.clone().asInstanceOf[CompositionDataset]"
   ]
  },
  {
   "cell_type": "code",
   "execution_count": 10,
   "metadata": {},
   "outputs": [
    {
     "name": "stdout",
     "output_type": "stream",
     "text": [
      "Read 4532 entries\n"
     ]
    }
   ],
   "source": [
    "meredigData.importText(\"meredig_predictions.dat\", null);\n",
    "println(s\"Read ${meredigData.NEntries} entries\")"
   ]
  },
  {
   "cell_type": "code",
   "execution_count": 11,
   "metadata": {},
   "outputs": [],
   "source": [
    "meredigData.generateAttributes()"
   ]
  },
  {
   "cell_type": "markdown",
   "metadata": {},
   "source": [
    "Add a property to store the band gap"
   ]
  },
  {
   "cell_type": "code",
   "execution_count": 12,
   "metadata": {},
   "outputs": [],
   "source": [
    "val modifier = new AddPropertyModifier()\n",
    "modifier.setPropertiesToAdd(Seq[String](\"bandgap\"))\n",
    "modifier.transform(meredigData)"
   ]
  },
  {
   "cell_type": "code",
   "execution_count": 13,
   "metadata": {},
   "outputs": [],
   "source": [
    "meredigData.setTargetProperty(\"bandgap\", true)"
   ]
  },
  {
   "cell_type": "code",
   "execution_count": 14,
   "metadata": {},
   "outputs": [],
   "source": [
    "model.run(meredigData);"
   ]
  },
  {
   "cell_type": "markdown",
   "metadata": {},
   "source": [
    "## Identify Materials with Best Band Gap Matches\n",
    "Find the 5 materials closest to the center of the range"
   ]
  },
  {
   "cell_type": "code",
   "execution_count": 15,
   "metadata": {},
   "outputs": [],
   "source": [
    "val ranker = new TargetEntryRanker(1.3);\n",
    "ranker.setMaximizeFunction(false);"
   ]
  },
  {
   "cell_type": "code",
   "execution_count": 16,
   "metadata": {},
   "outputs": [],
   "source": [
    "val ranks = ranker.rankEntries(meredigData, false);"
   ]
  },
  {
   "cell_type": "code",
   "execution_count": 17,
   "metadata": {},
   "outputs": [
    {
     "name": "stdout",
     "output_type": "stream",
     "text": [
      "K5MnF8 : 1.3189639581111834 eV\n",
      "Ca3PI9 : 1.3430254558651604 eV\n",
      "Sr3I9N : 1.346771082738287 eV\n",
      "Cs5MnF9 : 1.2430323305681472 eV\n",
      "CoB2F9 : 1.3802562952423152 eV\n"
     ]
    }
   ],
   "source": [
    "for (i <- 0 until 5) {\n",
    "    val entry = meredigData.getEntry(ranks(i));\n",
    "    println(s\"${entry} : ${entry.getPredictedClass()} eV\");\n",
    "}"
   ]
  },
  {
   "cell_type": "markdown",
   "metadata": {},
   "source": [
    "Save all of the predictions for later analysis"
   ]
  },
  {
   "cell_type": "code",
   "execution_count": 18,
   "metadata": {},
   "outputs": [
    {
     "name": "stdout",
     "output_type": "stream",
     "text": [
      "Saved predictions to: meredig_bandgap_predictions.prop\n"
     ]
    }
   ],
   "source": [
    "val outputFile = meredigData.saveCommand(\"meredig_bandgap_predictions\", \"prop\")\n",
    "println(s\"Saved predictions to: ${outputFile}\")"
   ]
  },
  {
   "cell_type": "code",
   "execution_count": 19,
   "metadata": {},
   "outputs": [],
   "source": []
  }
 ],
 "metadata": {
  "kernelspec": {
   "display_name": "Apache Toree - Scala",
   "language": "scala",
   "name": "apache_toree_scala"
  },
  "language_info": {
   "file_extension": ".scala",
   "name": "scala",
   "version": "2.11.8"
  }
 },
 "nbformat": 4,
 "nbformat_minor": 2
}
