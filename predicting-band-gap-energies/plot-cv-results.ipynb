{
 "cells": [
  {
   "cell_type": "markdown",
   "metadata": {},
   "source": [
    "# Plot Cross-Validation Results\n",
    "Plot the results from `build-and-test-hierarchical-model.ipynb`"
   ]
  },
  {
   "cell_type": "code",
   "execution_count": 1,
   "metadata": {},
   "outputs": [],
   "source": [
    "%matplotlib inline\n",
    "from matplotlib import pyplot as plt\n",
    "from scipy.stats import bayes_mvs\n",
    "import pandas as pd\n",
    "import numpy as np"
   ]
  },
  {
   "cell_type": "code",
   "execution_count": 2,
   "metadata": {},
   "outputs": [],
   "source": [
    "nice_name = {\n",
    "    'random': 'Random\\nGuessing',\n",
    "    'single': 'Single\\nModel',\n",
    "    'hierarchical': 'Partitioned\\nModel'\n",
    "}\n",
    "plot_width = 89 / 25.4;\n",
    "plot_height = plot_width * 3.0 / 4.0;\n",
    "width = 0.8\n",
    "plot_dpi = 220\n",
    "label_size = 12\n",
    "n_guesses = 30"
   ]
  },
  {
   "cell_type": "markdown",
   "metadata": {},
   "source": [
    "## Load in the test results\n",
    "These results indicate the number of materials that have a band gap within a desired range after 30 guesses."
   ]
  },
  {
   "cell_type": "code",
   "execution_count": 3,
   "metadata": {},
   "outputs": [],
   "source": [
    "data = pd.read_csv('cv-results.csv')"
   ]
  },
  {
   "cell_type": "markdown",
   "metadata": {},
   "source": [
    "## Compute the Mean and Confidence Intervals"
   ]
  },
  {
   "cell_type": "code",
   "execution_count": 4,
   "metadata": {},
   "outputs": [],
   "source": [
    "mean = dict((x,data[x].mean()) for x in data)"
   ]
  },
  {
   "cell_type": "code",
   "execution_count": 5,
   "metadata": {},
   "outputs": [],
   "source": [
    "def get_ci(x):\n",
    "    f = bayes_mvs(x, alpha=0.95)[0]\n",
    "    return f.minmax[1] - f.minmax[0]"
   ]
  },
  {
   "cell_type": "code",
   "execution_count": 6,
   "metadata": {},
   "outputs": [],
   "source": [
    "ci = dict((x,get_ci(data[x])) for x in data)"
   ]
  },
  {
   "cell_type": "code",
   "execution_count": 7,
   "metadata": {},
   "outputs": [],
   "source": [
    "results = pd.DataFrame({'mean': mean, 'ci': ci})"
   ]
  },
  {
   "cell_type": "code",
   "execution_count": 8,
   "metadata": {},
   "outputs": [],
   "source": [
    "results.sort_values('mean', inplace=True)"
   ]
  },
  {
   "cell_type": "markdown",
   "metadata": {},
   "source": [
    "Compute success rates"
   ]
  },
  {
   "cell_type": "code",
   "execution_count": 9,
   "metadata": {},
   "outputs": [],
   "source": [
    "for x in ['mean', 'ci']:\n",
    "    results['%s_percent'%x] = results[x] / n_guesses * 100"
   ]
  },
  {
   "cell_type": "code",
   "execution_count": 10,
   "metadata": {},
   "outputs": [
    {
     "data": {
      "text/html": [
       "<div>\n",
       "<table border=\"1\" class=\"dataframe\">\n",
       "  <thead>\n",
       "    <tr style=\"text-align: right;\">\n",
       "      <th></th>\n",
       "      <th>ci</th>\n",
       "      <th>mean</th>\n",
       "      <th>mean_percent</th>\n",
       "      <th>ci_percent</th>\n",
       "    </tr>\n",
       "  </thead>\n",
       "  <tbody>\n",
       "    <tr>\n",
       "      <th>random</th>\n",
       "      <td>0.705162</td>\n",
       "      <td>2.79</td>\n",
       "      <td>9.300000</td>\n",
       "      <td>2.350541</td>\n",
       "    </tr>\n",
       "    <tr>\n",
       "      <th>single</th>\n",
       "      <td>1.035271</td>\n",
       "      <td>18.68</td>\n",
       "      <td>62.266667</td>\n",
       "      <td>3.450904</td>\n",
       "    </tr>\n",
       "    <tr>\n",
       "      <th>hierarchical</th>\n",
       "      <td>0.873784</td>\n",
       "      <td>22.98</td>\n",
       "      <td>76.600000</td>\n",
       "      <td>2.912613</td>\n",
       "    </tr>\n",
       "  </tbody>\n",
       "</table>\n",
       "</div>"
      ],
      "text/plain": [
       "                    ci   mean  mean_percent  ci_percent\n",
       "random        0.705162   2.79      9.300000    2.350541\n",
       "single        1.035271  18.68     62.266667    3.450904\n",
       "hierarchical  0.873784  22.98     76.600000    2.912613"
      ]
     },
     "execution_count": 10,
     "metadata": {},
     "output_type": "execute_result"
    }
   ],
   "source": [
    "results"
   ]
  },
  {
   "cell_type": "markdown",
   "metadata": {},
   "source": [
    "## Make the plot"
   ]
  },
  {
   "cell_type": "code",
   "execution_count": 11,
   "metadata": {},
   "outputs": [
    {
     "data": {
      "image/png": "[encoded data removed]",
      "text/plain": [
       "<matplotlib.figure.Figure at 0x7fc9a74ec588>"
      ]
     },
     "metadata": {},
     "output_type": "display_data"
    }
   ],
   "source": [
    "fig, ax = plt.subplots()\n",
    "\n",
    "ax.bar(range(len(results)), results['mean'] / n_guesses * 100, yerr=results['ci'] / n_guesses * 100)\n",
    "\n",
    "ax.set_xlim(ax.get_xlim())\n",
    "ax.set_xticks(range(len(results)))\n",
    "ax.set_xticklabels([nice_name[x] for x in results.index])\n",
    "\n",
    "ax.set_ylim(0,100)\n",
    "ax.set_ylabel('Predictions within\\nTarget Range (%)', fontsize = label_size)\n",
    "ax.tick_params(axis='y', which='major', labelsize = label_size * 0.7)\n",
    "\n",
    "ax.arrow(0, results['mean_percent'].min() * 1.25,\n",
    "        0, (0.925 * results['mean_percent'].max() - 1.25 * results['mean_percent'].min() ),\n",
    "        head_width = 0.1, head_length=2.5,\n",
    "        lw=2.25, ec='red')\n",
    "ax.plot(ax.get_xlim(),[results['mean_percent'].max(),]*2,'k--',lw=0.5)\n",
    "ax.text(np.mean(ax.get_xlim()), results['mean_percent'].max()*1.075, \n",
    "       '%.0f-fold reliability increase'%(results['mean_percent'].max()/results['mean_percent'].min()),\n",
    "        ha='center', fontdict={'fontstyle':'italic', 'color':'red'})\n",
    "\n",
    "\n",
    "fig.set_size_inches(plot_width, plot_height)\n",
    "fig.tight_layout()\n",
    "fig.savefig('figures/band-gap-model-comparision.png', dpi=plot_dpi)\n",
    "fig.savefig('figures/band-gap-model-comparision.pdf')"
   ]
  },
  {
   "cell_type": "markdown",
   "metadata": {},
   "source": [
    "Our results vary slightly from the paper. In that case, the difference between random guessing and the partitioned model was only 5-fold. Here, we find an 8-fold different and that the difference in performance between the 'single' and 'partitioned' model. This may very if we run the experiment again, but the error bars are small enough that we do not find random variations to be a likely explanation for the differences."
   ]
  },
  {
   "cell_type": "code",
   "execution_count": 12,
   "metadata": {},
   "outputs": [],
   "source": []
  }
 ],
 "metadata": {
  "kernelspec": {
   "display_name": "Python 3",
   "language": "python",
   "name": "python3"
  },
  "language_info": {
   "codemirror_mode": {
    "name": "ipython",
    "version": 3
   },
   "file_extension": ".py",
   "mimetype": "text/x-python",
   "name": "python",
   "nbconvert_exporter": "python",
   "pygments_lexer": "ipython3",
   "version": "3.6.2"
  }
 },
 "nbformat": 4,
 "nbformat_minor": 2
}
