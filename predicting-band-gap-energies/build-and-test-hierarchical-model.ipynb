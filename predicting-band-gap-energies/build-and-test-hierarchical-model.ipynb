{
 "cells": [
  {
   "cell_type": "code",
   "execution_count": 1,
   "metadata": {},
   "outputs": [
    {
     "name": "stdout",
     "output_type": "stream",
     "text": [
      "Starting download from file:///home/jovyan/data/magpie/dist/Magpie.jar\n",
      "Finished download of Magpie.jar\n"
     ]
    }
   ],
   "source": [
    "%AddJar file:///home/jovyan/data/magpie/dist/Magpie.jar"
   ]
  },
  {
   "cell_type": "markdown",
   "metadata": {},
   "source": [
    "# Build a Hierarchical Model for Predicting Band Gap Energies\n",
    "Create a model that predicts the band gap energies of materials given their compositions. "
   ]
  },
  {
   "cell_type": "code",
   "execution_count": 2,
   "metadata": {},
   "outputs": [],
   "source": [
    "import java.io.PrintWriter;"
   ]
  },
  {
   "cell_type": "code",
   "execution_count": 3,
   "metadata": {},
   "outputs": [],
   "source": [
    "import magpie.data.Dataset;\n",
    "import magpie.data.materials.CompositionDataset;\n",
    "import magpie.data.utilities.filters.ContainsElementFilter;\n",
    "import magpie.data.utilities.splitters.{MultipleElementGroupsSplitter, PredictedClassIntervalSplitter};\n",
    "import magpie.data.materials.util.PropertyLists;\n",
    "import magpie.models.BaseModel;\n",
    "import magpie.models.regression.{SplitRegression, WekaRegression, RandomGuessRegression};\n",
    "import magpie.models.classification.WekaClassifier;\n",
    "import magpie.optimization.rankers.TargetEntryRanker;"
   ]
  },
  {
   "cell_type": "markdown",
   "metadata": {},
   "source": [
    "## Load in the Data\n",
    "Read in the data from disk (which automatically removes duplicates in this version of Magpie), and remove noble-gas-containing materials"
   ]
  },
  {
   "cell_type": "code",
   "execution_count": 4,
   "metadata": {},
   "outputs": [],
   "source": [
    "val data = new CompositionDataset()"
   ]
  },
  {
   "cell_type": "code",
   "execution_count": 5,
   "metadata": {},
   "outputs": [
    {
     "name": "stdout",
     "output_type": "stream",
     "text": [
      "Read in 25212 entries\n"
     ]
    }
   ],
   "source": [
    "data.importText(\"/home/jovyan/data/datasets/bandgap.data\", null);\n",
    "println(s\"Read in ${data.NEntries} entries\")"
   ]
  },
  {
   "cell_type": "code",
   "execution_count": 6,
   "metadata": {},
   "outputs": [],
   "source": [
    "val filter = new ContainsElementFilter();"
   ]
  },
  {
   "cell_type": "code",
   "execution_count": 7,
   "metadata": {},
   "outputs": [],
   "source": [
    "filter.setElementList(Array[String](\"He\",\"Ne\",\"Ar\",\"Kr\",\"Xe\"))"
   ]
  },
  {
   "cell_type": "code",
   "execution_count": 8,
   "metadata": {},
   "outputs": [],
   "source": [
    "filter.setExclude(true)"
   ]
  },
  {
   "cell_type": "code",
   "execution_count": 9,
   "metadata": {},
   "outputs": [
    {
     "name": "stdout",
     "output_type": "stream",
     "text": [
      "Trimmed data to 25186 entries.\n"
     ]
    }
   ],
   "source": [
    "filter.filter(data)\n",
    "println(s\"Trimmed data to ${data.NEntries} entries.\")"
   ]
  },
  {
   "cell_type": "code",
   "execution_count": 10,
   "metadata": {},
   "outputs": [],
   "source": [
    "data.setTargetProperty(\"bandgap\", false);"
   ]
  },
  {
   "cell_type": "markdown",
   "metadata": {},
   "source": [
    "## Compute the Representation\n",
    "Generates the attributes that serve as inputs into the ML model."
   ]
  },
  {
   "cell_type": "code",
   "execution_count": 11,
   "metadata": {},
   "outputs": [],
   "source": [
    "data.setDataDirectory(\"/home/jovyan/data/magpie/Lookup Data\")"
   ]
  },
  {
   "cell_type": "code",
   "execution_count": 12,
   "metadata": {},
   "outputs": [],
   "source": [
    "for (prop <- PropertyLists.getPropertySet(\"general\")) {\n",
    "    data.addElementalProperty(prop);\n",
    "}"
   ]
  },
  {
   "cell_type": "code",
   "execution_count": 13,
   "metadata": {},
   "outputs": [
    {
     "name": "stdout",
     "output_type": "stream",
     "text": [
      "Generated 145 attributes\n"
     ]
    }
   ],
   "source": [
    "data.generateAttributes()\n",
    "println(s\"Generated ${data.NAttributes} attributes\")"
   ]
  },
  {
   "cell_type": "markdown",
   "metadata": {},
   "source": [
    "## Create the Machine Learning Models\n",
    "Two separate models: one that is just an ensemble of decision trees, and another that is a hierarchical collection of many different machine learning models."
   ]
  },
  {
   "cell_type": "markdown",
   "metadata": {},
   "source": [
    "### Create the Single Model\n",
    "Just an ensemble of Reduced Error Pruning Trees (REPTrees)"
   ]
  },
  {
   "cell_type": "code",
   "execution_count": 14,
   "metadata": {},
   "outputs": [],
   "source": [
    "val singleModel = new WekaRegression(\"meta.RandomSubSpace\",\n",
    "        Array[String](\"-num-slots\", \"0\", \"-W\", \"weka.classifiers.trees.REPTree\", \"--\", \"-N\", \"7\")\n",
    "    );"
   ]
  },
  {
   "cell_type": "markdown",
   "metadata": {},
   "source": [
    "### Create the Ensemble Model\n",
    "The model we converged on in the paper trains different regression models on different parts of the dataset. On training, the model first trains a classification model to predict the range of the band gap: <=0, 0-1.5, 1.5-3, or >3 eV. We then train a regression model on all data predicted to be in the '<=0 eV' class. For entries flagged with the other labels, we then separate out all of the halogen-containing entries, then the chalcogen-containing entries, and the pnictide-containing entries - yielding 4 separate subsets. We then train a regression model on each subset. \n",
    "\n",
    "When evaluating the model, we first assign a label to the entry using the classifier and then select the appropriate regression model based on that label and the composition of the entry. \n",
    "\n",
    "The model looks something like this:\n",
    "<img src=\"./figures/band_gap_model_fig.png\" style=\"width: 450px;\"/>"
   ]
  },
  {
   "cell_type": "code",
   "execution_count": 15,
   "metadata": {},
   "outputs": [],
   "source": [
    "val hierModel = new SplitRegression();"
   ]
  },
  {
   "cell_type": "markdown",
   "metadata": {},
   "source": [
    "Add in first level of splitting: a classifier to predict the range of the band gap energy"
   ]
  },
  {
   "cell_type": "code",
   "execution_count": 16,
   "metadata": {},
   "outputs": [],
   "source": [
    "val clfrSplitter = new PredictedClassIntervalSplitter();\n",
    "val clfr = new WekaClassifier(\"meta.RandomSubSpace\",\n",
    "        Array[String](\"-num-slots\", \"0\", \"-W\", \"weka.classifiers.trees.REPTree\", \"--\", \"-N\", \"7\")\n",
    "    );\n",
    "clfrSplitter.setClassifier(clfr);\n",
    "clfrSplitter.setEdges(Array[Double](0, 1.5, 3))\n",
    "hierModel.setPartitioner(clfrSplitter);"
   ]
  },
  {
   "cell_type": "markdown",
   "metadata": {},
   "source": [
    "Add in the second level, splitting based on the element types"
   ]
  },
  {
   "cell_type": "code",
   "execution_count": 17,
   "metadata": {},
   "outputs": [],
   "source": [
    "val secondLevel = new SplitRegression();"
   ]
  },
  {
   "cell_type": "code",
   "execution_count": 18,
   "metadata": {},
   "outputs": [],
   "source": [
    "val elemSplitter = new MultipleElementGroupsSplitter();\n",
    "elemSplitter.addElementGroup(\"F Cl Br I At\");\n",
    "elemSplitter.addElementGroup(\"O S Se Te Po\");\n",
    "elemSplitter.addElementGroup(\"N P As Sb Bi\");\n",
    "secondLevel.setPartitioner(elemSplitter);"
   ]
  },
  {
   "cell_type": "code",
   "execution_count": 19,
   "metadata": {},
   "outputs": [],
   "source": [
    "secondLevel.setGenericModel(singleModel);"
   ]
  },
  {
   "cell_type": "markdown",
   "metadata": {},
   "source": [
    "Assemble the whole thing"
   ]
  },
  {
   "cell_type": "code",
   "execution_count": 20,
   "metadata": {},
   "outputs": [],
   "source": [
    "hierModel.setGenericModel(secondLevel);\n",
    "hierModel.setModel(0, singleModel);"
   ]
  },
  {
   "cell_type": "markdown",
   "metadata": {},
   "source": [
    "## Test the Model\n",
    "Our overall goal is to find new materials with band gap energies in the range suitable for solar cells. To test our model's effectiveness for identifying these materials, we employ a cross-validation test where we train our model on 90% of the original dataset and evaluate its ability to identify materials with band gap energies between 0.9-1.7 eV in the remaining 10%. Specifically, we select the 30 materials predicted to have band gaps closest to the center of this range and then evaluate how many of those actually have a band gap in the target range. "
   ]
  },
  {
   "cell_type": "code",
   "execution_count": 21,
   "metadata": {},
   "outputs": [],
   "source": [
    "val test_size = 0.1;\n",
    "val n_repeats = 100;"
   ]
  },
  {
   "cell_type": "code",
   "execution_count": 22,
   "metadata": {},
   "outputs": [],
   "source": [
    "val randomGuess = new RandomGuessRegression();"
   ]
  },
  {
   "cell_type": "code",
   "execution_count": 23,
   "metadata": {},
   "outputs": [],
   "source": [
    "val ranker = new TargetEntryRanker(1.3);\n",
    "ranker.setMaximizeFunction(false);"
   ]
  },
  {
   "cell_type": "code",
   "execution_count": 24,
   "metadata": {},
   "outputs": [],
   "source": [
    "/**\n",
    "  * Run the cross-validation test\n",
    "  */\n",
    "def runTest(trainData : Dataset, testData : Dataset, model : BaseModel) : Integer = {\n",
    "    model.train(trainData);\n",
    "    model.run(testData);\n",
    "    \n",
    "    // Rank the materials by their distance from the center of the range\n",
    "    val ranks = ranker.rankEntries(testData, false);\n",
    "    \n",
    "    // Evaluate how many from the top 3 are within the desired range\n",
    "    var score = 0;\n",
    "    for (i <- 0 until 30) {\n",
    "        val x = testData.getEntry(ranks(i)).getMeasuredClass();\n",
    "        if (x >= 0.9 && x <= 1.7) {\n",
    "            score = score + 1;\n",
    "        }\n",
    "    }\n",
    "    \n",
    "    return score;\n",
    "}"
   ]
  },
  {
   "cell_type": "code",
   "execution_count": 25,
   "metadata": {},
   "outputs": [
    {
     "name": "stdout",
     "output_type": "stream",
     "text": [
      "Iteration 100/100"
     ]
    }
   ],
   "source": [
    "val fp = new PrintWriter(\"cv-results.csv\");\n",
    "fp.println(\"random,single,hierarchical\");\n",
    "for (i <- 1 to n_repeats) {\n",
    "    print(s\"\\rIteration ${i}/${n_repeats}\")\n",
    "    // Get the training and test set    \n",
    "    val trainData = data.clone();\n",
    "    val testData = trainData.getRandomSubset(0.1);\n",
    "       \n",
    "    // Train the simple model\n",
    "    fp.print(s\"${runTest(trainData, testData, randomGuess)},\")\n",
    "    fp.print(s\"${runTest(trainData, testData, singleModel)},\")\n",
    "    fp.println(s\"${runTest(trainData, testData, hierModel)}\")\n",
    "    fp.flush();\n",
    "}\n",
    "fp.close()"
   ]
  },
  {
   "cell_type": "markdown",
   "metadata": {},
   "source": [
    "## Save the Model\n",
    "Save the model using Java's serialization methods, so that it can be re-used in a later script"
   ]
  },
  {
   "cell_type": "code",
   "execution_count": 26,
   "metadata": {},
   "outputs": [],
   "source": [
    "hierModel.saveState(\"bandgap-model-template.obj\")"
   ]
  },
  {
   "cell_type": "code",
   "execution_count": 27,
   "metadata": {},
   "outputs": [],
   "source": [
    "data.emptyClone().saveState(\"bandgap-model-dataset-template.obj\")"
   ]
  },
  {
   "cell_type": "code",
   "execution_count": 28,
   "metadata": {},
   "outputs": [],
   "source": []
  }
 ],
 "metadata": {
  "kernelspec": {
   "display_name": "Apache Toree - Scala",
   "language": "scala",
   "name": "apache_toree_scala"
  },
  "language_info": {
   "file_extension": ".scala",
   "name": "scala",
   "version": "2.11.8"
  }
 },
 "nbformat": 4,
 "nbformat_minor": 2
}
