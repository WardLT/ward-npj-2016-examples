{
 "cells": [
  {
   "cell_type": "code",
   "execution_count": 1,
   "metadata": {},
   "outputs": [
    {
     "name": "stdout",
     "output_type": "stream",
     "text": [
      "Starting download from file:///home/jovyan/data/magpie/dist/Magpie.jar\n",
      "Finished download of Magpie.jar\n"
     ]
    }
   ],
   "source": [
    "%AddJar file:///home/jovyan/data/magpie/dist/Magpie.jar"
   ]
  },
  {
   "cell_type": "markdown",
   "metadata": {},
   "source": [
    "# Modeling Glass-Forming Ability\n",
    "This notebook builds and tests and machine learning model that predicts the glass-forming of metallic glass alloys. We start with creating a model and testing it with 10-fold, stratified cross-validation and then test it by withhold all of the data from the same alloy system when creating a test set."
   ]
  },
  {
   "cell_type": "code",
   "execution_count": 2,
   "metadata": {},
   "outputs": [],
   "source": [
    "import magpie.data.materials.CompositionDataset;\n",
    "import magpie.data.materials.util.PropertyLists;\n",
    "import magpie.data.utilities.modifiers.{ClassEliminationModifier, DiscreteToContinuousModifier};\n",
    "import magpie.data.utilities.filters.PhaseDiagramExclusionFilter;\n",
    "import magpie.data.utilities.splitters.AllMetalsSplitter;\n",
    "import magpie.data.utilities.generators.PhaseDiagramCompositionEntryGenerator;\n",
    "import magpie.models.BaseModel;\n",
    "import magpie.models.classification.{SplitClassifier, WekaClassifier};\n",
    "import magpie.utility.tools.PhaseDiagramExclusionValidator;\n",
    "import scala.collection.JavaConversions._;"
   ]
  },
  {
   "cell_type": "markdown",
   "metadata": {},
   "source": [
    "## Load in the Data\n",
    "Read in the data from `datastes/glass.data`, and change the labels of all entries labeled 'partially crystalline' (AC) to 'crystalline' (CR)"
   ]
  },
  {
   "cell_type": "code",
   "execution_count": 3,
   "metadata": {},
   "outputs": [],
   "source": [
    "val data = new CompositionDataset();"
   ]
  },
  {
   "cell_type": "code",
   "execution_count": 4,
   "metadata": {},
   "outputs": [
    {
     "name": "stdout",
     "output_type": "stream",
     "text": [
      "Read 5369 entries.\n"
     ]
    }
   ],
   "source": [
    "data.importText(\"../datasets/glass.data\", null)\n",
    "println(s\"Read ${data.NEntries} entries.\")"
   ]
  },
  {
   "cell_type": "code",
   "execution_count": 5,
   "metadata": {},
   "outputs": [],
   "source": [
    "data.setTargetProperty(\"gfa\", true)"
   ]
  },
  {
   "cell_type": "markdown",
   "metadata": {},
   "source": [
    "Save the data for later plotting"
   ]
  },
  {
   "cell_type": "code",
   "execution_count": 6,
   "metadata": {},
   "outputs": [
    {
     "data": {
      "text/plain": [
       "training_data.csv"
      ]
     },
     "execution_count": 6,
     "metadata": {},
     "output_type": "execute_result"
    }
   ],
   "source": [
    "data.saveCommand(\"training_data\", \"comp\");"
   ]
  },
  {
   "cell_type": "markdown",
   "metadata": {},
   "source": [
    "Eliminate partially-crystalline labels"
   ]
  },
  {
   "cell_type": "code",
   "execution_count": 7,
   "metadata": {},
   "outputs": [],
   "source": [
    "val mdfr = new ClassEliminationModifier();"
   ]
  },
  {
   "cell_type": "code",
   "execution_count": 8,
   "metadata": {},
   "outputs": [],
   "source": [
    "mdfr.setClassToEliminate(\"AC\")\n",
    "mdfr.setNewClassName(\"CR\");\n",
    "mdfr.transform(data);"
   ]
  },
  {
   "cell_type": "code",
   "execution_count": 9,
   "metadata": {},
   "outputs": [
    {
     "name": "stdout",
     "output_type": "stream",
     "text": [
      "Number of entries:    5369\n",
      "Number of attributes:   0\n",
      "Number of properties: 1\n",
      "Target property: gfa\n",
      "\tPossible classes: {AM, CR}\n"
     ]
    }
   ],
   "source": [
    "println(data)"
   ]
  },
  {
   "cell_type": "markdown",
   "metadata": {},
   "source": [
    "## Compute Representation\n",
    "Compute the 145 'general-purpose' features"
   ]
  },
  {
   "cell_type": "code",
   "execution_count": 10,
   "metadata": {},
   "outputs": [],
   "source": [
    "data.setDataDirectory(\"/home/jovyan/data/magpie/Lookup Data\")"
   ]
  },
  {
   "cell_type": "code",
   "execution_count": 11,
   "metadata": {},
   "outputs": [],
   "source": [
    "for (prop <- PropertyLists.getPropertySet(\"general\")) {\n",
    "    data.addElementalProperty(prop);\n",
    "}"
   ]
  },
  {
   "cell_type": "code",
   "execution_count": 12,
   "metadata": {},
   "outputs": [
    {
     "name": "stdout",
     "output_type": "stream",
     "text": [
      "Generated 145 attributes\n"
     ]
    }
   ],
   "source": [
    "data.generateAttributes()\n",
    "println(s\"Generated ${data.NAttributes} attributes\")"
   ]
  },
  {
   "cell_type": "markdown",
   "metadata": {},
   "source": [
    "## Train Machine Learning Model\n",
    "We train two separate machine learning models: one for glasses that contain only metallic elements, and another for glasses that contain at least one nonmetallic element."
   ]
  },
  {
   "cell_type": "code",
   "execution_count": 13,
   "metadata": {},
   "outputs": [],
   "source": [
    "val model = new SplitClassifier()"
   ]
  },
  {
   "cell_type": "code",
   "execution_count": 14,
   "metadata": {},
   "outputs": [],
   "source": [
    "model.setPartitioner(new AllMetalsSplitter())"
   ]
  },
  {
   "cell_type": "code",
   "execution_count": 15,
   "metadata": {},
   "outputs": [],
   "source": [
    "val submodel = new WekaClassifier(\"meta.RandomSubSpace\", \n",
    "    \"-P 0.5 -S 1 -I 20 -W weka.classifiers.trees.RandomForest -- -I 10 -K 0 -S 1\".split(\" \"))"
   ]
  },
  {
   "cell_type": "code",
   "execution_count": 16,
   "metadata": {},
   "outputs": [],
   "source": [
    "model.setGenericModel(submodel)"
   ]
  },
  {
   "cell_type": "code",
   "execution_count": 17,
   "metadata": {},
   "outputs": [],
   "source": [
    "model.train(data)"
   ]
  },
  {
   "cell_type": "markdown",
   "metadata": {},
   "source": [
    "Save the model and dataset for later use"
   ]
  },
  {
   "cell_type": "code",
   "execution_count": 18,
   "metadata": {},
   "outputs": [],
   "source": [
    "model.saveState(\"gfa-model.obj\")"
   ]
  },
  {
   "cell_type": "code",
   "execution_count": 19,
   "metadata": {},
   "outputs": [],
   "source": [
    "data.saveState(\"gfa-dataset.obj\")"
   ]
  },
  {
   "cell_type": "markdown",
   "metadata": {},
   "source": [
    "## Perform a 10-fold Crossvalidation\n",
    "Run a simple cross-validation test: 10-fold, stratified cross-validation"
   ]
  },
  {
   "cell_type": "markdown",
   "metadata": {},
   "source": [
    "### Using the Hierarchical Model"
   ]
  },
  {
   "cell_type": "code",
   "execution_count": 20,
   "metadata": {},
   "outputs": [],
   "source": [
    "val cv_data = model.crossValidate(10, data)"
   ]
  },
  {
   "cell_type": "code",
   "execution_count": 21,
   "metadata": {},
   "outputs": [
    {
     "name": "stdout",
     "output_type": "stream",
     "text": [
      "Number Tested: 5369\n",
      "Number correct: 4831 (89.980%)\n",
      "Kappa: 0.6569\n",
      "Sensitivity: 0.9088\n",
      "FPR: 0.1263\n",
      "Accuracy: 0.8998\n",
      "PPV: 0.9542\n",
      "NPV: 0.7679\n",
      "FDR: 0.0458\n",
      "MCC: 0.7517\n",
      "F1: 0.9310\n",
      "ROC AUC: 0.9131\n",
      "\n"
     ]
    }
   ],
   "source": [
    "println(model.ValidationStats)"
   ]
  },
  {
   "cell_type": "markdown",
   "metadata": {},
   "source": [
    "### Using the Single Model"
   ]
  },
  {
   "cell_type": "code",
   "execution_count": 22,
   "metadata": {},
   "outputs": [],
   "source": [
    "val cv_data = submodel.crossValidate(10, data)"
   ]
  },
  {
   "cell_type": "code",
   "execution_count": 23,
   "metadata": {},
   "outputs": [
    {
     "name": "stdout",
     "output_type": "stream",
     "text": [
      "Number Tested: 5369\n",
      "Number correct: 4820 (89.775%)\n",
      "Kappa: 0.6499\n",
      "Sensitivity: 0.9059\n",
      "FPR: 0.1262\n",
      "Accuracy: 0.8977\n",
      "PPV: 0.9547\n",
      "NPV: 0.7596\n",
      "FDR: 0.0453\n",
      "MCC: 0.7463\n",
      "F1: 0.9297\n",
      "ROC AUC: 0.9170\n",
      "\n"
     ]
    }
   ],
   "source": [
    "println(submodel.ValidationStats)"
   ]
  },
  {
   "cell_type": "markdown",
   "metadata": {},
   "source": [
    "The accuracies are similar to what is reported in the paper. And, we note that each the partitioned model yields identical performance to a single model trained on the entire dataset."
   ]
  },
  {
   "cell_type": "markdown",
   "metadata": {},
   "source": [
    "## Leave a Single System Out\n",
    "In practice, we want to use this machine learning model to predict the glass-forming ability in alloy systems for which we have no training data. A k-fold crossvalidation test does not sufficient model this use case because we often have data from the same system in our training and test set. So, to test the ability of our model, we perform a test where we exclude all data from a single ternary system - Al-Ni-Zr - from our training set, train the model on the remaining data, and the assess the performance of our model on the Al-Ni-Zr data that was held-out."
   ]
  },
  {
   "cell_type": "code",
   "execution_count": 24,
   "metadata": {},
   "outputs": [],
   "source": [
    "def test_on_holdout_system(model : BaseModel, elements : Array[String]) : BaseModel = {\n",
    "    // Generate training and test sets\n",
    "    val trainData = data.clone();\n",
    "    \n",
    "    val filter = new PhaseDiagramExclusionFilter();\n",
    "    filter.setElementList(elements)\n",
    "\n",
    "    filter.setExclude(true);\n",
    "    filter.filter(trainData)\n",
    "\n",
    "    val testData = data.clone();\n",
    "    filter.setExclude(false);\n",
    "    filter.filter(testData)\n",
    "\n",
    "    // Retrain the model\n",
    "    val my_model = model.clone();\n",
    "    my_model.train(trainData);\n",
    "    \n",
    "    my_model.externallyValidate(testData)\n",
    "    return my_model\n",
    "}"
   ]
  },
  {
   "cell_type": "code",
   "execution_count": 25,
   "metadata": {},
   "outputs": [
    {
     "name": "stdout",
     "output_type": "stream",
     "text": [
      "Number Tested: 207\n",
      "Number correct: 181 (87.440%)\n",
      "Kappa: 0.3953\n",
      "Sensitivity: 0.8750\n",
      "FPR: 0.1304\n",
      "Accuracy: 0.8744\n",
      "PPV: 0.9817\n",
      "NPV: 0.4651\n",
      "FDR: 0.0183\n",
      "MCC: 0.5768\n",
      "F1: 0.9253\n",
      "ROC AUC: 0.6875\n",
      "\n"
     ]
    }
   ],
   "source": [
    "println(test_on_holdout_system(model, Array[String](\"Al\",\"Ni\",\"Zr\")).ValidationStats)"
   ]
  },
  {
   "cell_type": "code",
   "execution_count": 26,
   "metadata": {},
   "outputs": [
    {
     "name": "stdout",
     "output_type": "stream",
     "text": [
      "Number Tested: 207\n",
      "Number correct: 175 (84.541%)\n",
      "Kappa: 0.2558\n",
      "Sensitivity: 0.8402\n",
      "FPR: 0.0769\n",
      "Accuracy: 0.8454\n",
      "PPV: 0.9939\n",
      "NPV: 0.2791\n",
      "FDR: 0.0061\n",
      "MCC: 0.4565\n",
      "F1: 0.9106\n",
      "ROC AUC: 0.7236\n",
      "\n"
     ]
    }
   ],
   "source": [
    "println(test_on_holdout_system(submodel, Array[String](\"Al\",\"Ni\",\"Zr\")).ValidationStats)"
   ]
  },
  {
   "cell_type": "markdown",
   "metadata": {},
   "source": [
    "We find that both our hierarchical model and the single model perform decently on this dataset: an FPR ~ 10% and an area under the ROC curve of >0.6 in both cases. It appears our heirarchical model preforms better for this application, but this is just a single system."
   ]
  },
  {
   "cell_type": "markdown",
   "metadata": {},
   "source": [
    "### Visualize the Al-Ni-Zr predictions\n",
    "To get a better idea of the performnace of the model, we will train the model on the dataset without Al-Ni-Zr data and then predict the glass-forming ability for a range of compositions in the system"
   ]
  },
  {
   "cell_type": "code",
   "execution_count": 27,
   "metadata": {},
   "outputs": [],
   "source": [
    "val dataGen = new PhaseDiagramCompositionEntryGenerator();"
   ]
  },
  {
   "cell_type": "code",
   "execution_count": 28,
   "metadata": {},
   "outputs": [],
   "source": [
    "dataGen.setElementsByName(Set[String](\"Al\", \"Ni\", \"Zr\"))\n",
    "dataGen.setEvenSpacing(true)\n",
    "dataGen.setOrder(1, 3)\n",
    "dataGen.setSize(101)"
   ]
  },
  {
   "cell_type": "code",
   "execution_count": 29,
   "metadata": {},
   "outputs": [
    {
     "name": "stdout",
     "output_type": "stream",
     "text": [
      "Generated 5151 entries\n"
     ]
    }
   ],
   "source": [
    "val runData = data.emptyClone();\n",
    "dataGen.addEntriesToDataset(runData);\n",
    "println(s\"Generated ${runData.NEntries} entries\");"
   ]
  },
  {
   "cell_type": "code",
   "execution_count": 30,
   "metadata": {},
   "outputs": [],
   "source": [
    "val filteredModel = test_on_holdout_system(model, Array[String](\"Al\",\"Ni\",\"Zr\"))"
   ]
  },
  {
   "cell_type": "code",
   "execution_count": 31,
   "metadata": {},
   "outputs": [],
   "source": [
    "runData.generateAttributes();\n",
    "filteredModel.run(runData)"
   ]
  },
  {
   "cell_type": "markdown",
   "metadata": {},
   "source": [
    "Save the probabilities in composition format"
   ]
  },
  {
   "cell_type": "code",
   "execution_count": 32,
   "metadata": {},
   "outputs": [],
   "source": [
    "val mdfr = new DiscreteToContinuousModifier();\n",
    "mdfr.setClassName(\"AM\")\n",
    "mdfr.transform(runData)"
   ]
  },
  {
   "cell_type": "code",
   "execution_count": 33,
   "metadata": {},
   "outputs": [
    {
     "name": "stdout",
     "output_type": "stream",
     "text": [
      "Saved data to alnizr_predictions.csv\n"
     ]
    }
   ],
   "source": [
    "val filename = runData.saveCommand(\"alnizr_predictions\", \"comp\")\n",
    "println(s\"Saved data to ${filename}\")"
   ]
  },
  {
   "cell_type": "markdown",
   "metadata": {},
   "source": [
    "## Perform a Leave-out-element-pairs Cross-validation Test\n",
    "In this test, we iteratively without entires that contain a certain pair of elements for a test set. This is a generalized version of the \"leaving out single system\" test we just performed."
   ]
  },
  {
   "cell_type": "code",
   "execution_count": 34,
   "metadata": {},
   "outputs": [],
   "source": [
    "val validator = new PhaseDiagramExclusionValidator();\n",
    "validator.setNElements(2)"
   ]
  },
  {
   "cell_type": "markdown",
   "metadata": {},
   "source": [
    "Run the Hierarchical Model"
   ]
  },
  {
   "cell_type": "code",
   "execution_count": 35,
   "metadata": {},
   "outputs": [
    {
     "name": "stdout",
     "output_type": "stream",
     "text": [
      "Number Tested: 15318\n",
      "Number correct: 12356 (80.663%)\n",
      "Kappa: 0.3306\n",
      "Sensitivity: 0.8438\n",
      "FPR: 0.3067\n",
      "Accuracy: 0.8066\n",
      "PPV: 0.8934\n",
      "NPV: 0.5930\n",
      "FDR: 0.1066\n",
      "MCC: 0.5111\n",
      "F1: 0.8679\n",
      "ROC AUC: 0.4864\n",
      "\n"
     ]
    }
   ],
   "source": [
    "validator.evaluateModel(model, data)\n",
    "println(validator.printCommand(Seq[String](\"last\", \"stats\")))"
   ]
  },
  {
   "cell_type": "markdown",
   "metadata": {},
   "source": [
    "Run the Single Model"
   ]
  },
  {
   "cell_type": "code",
   "execution_count": 36,
   "metadata": {},
   "outputs": [
    {
     "name": "stdout",
     "output_type": "stream",
     "text": [
      "Number Tested: 15318\n",
      "Number correct: 12331 (80.500%)\n",
      "Kappa: 0.3250\n",
      "Sensitivity: 0.8439\n",
      "FPR: 0.3119\n",
      "Accuracy: 0.8050\n",
      "PPV: 0.8906\n",
      "NPV: 0.5944\n",
      "FDR: 0.1094\n",
      "MCC: 0.5079\n",
      "F1: 0.8666\n",
      "ROC AUC: 0.4849\n",
      "\n"
     ]
    }
   ],
   "source": [
    "validator.evaluateModel(submodel, data)\n",
    "println(validator.printCommand(Seq[String](\"last\", \"stats\")))"
   ]
  },
  {
   "cell_type": "markdown",
   "metadata": {},
   "source": [
    "We find very similar results to the paper. The perdiction accuracy is ~80% (better than random) and the 'hierarchical' model is *slightly* better for this test than the single model."
   ]
  },
  {
   "cell_type": "code",
   "execution_count": 37,
   "metadata": {},
   "outputs": [],
   "source": []
  }
 ],
 "metadata": {
  "kernelspec": {
   "display_name": "Apache Toree - Scala",
   "language": "scala",
   "name": "apache_toree_scala"
  },
  "language_info": {
   "file_extension": ".scala",
   "name": "scala",
   "version": "2.11.8"
  }
 },
 "nbformat": 4,
 "nbformat_minor": 2
}
