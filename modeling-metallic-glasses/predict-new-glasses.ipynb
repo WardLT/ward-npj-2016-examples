{
 "cells": [
  {
   "cell_type": "code",
   "execution_count": 1,
   "metadata": {},
   "outputs": [
    {
     "name": "stdout",
     "output_type": "stream",
     "text": [
      "Starting download from file:///home/jovyan/data/magpie/dist/Magpie.jar\n",
      "Finished download of Magpie.jar\n"
     ]
    }
   ],
   "source": [
    "%AddJar file:///home/jovyan/data/magpie/dist/Magpie.jar"
   ]
  },
  {
   "cell_type": "markdown",
   "metadata": {},
   "source": [
    "# Predict New Metallic Glasses\n",
    "Using the model trained in `build-and-test-gfa-model`, predict new metallic glass alloys. "
   ]
  },
  {
   "cell_type": "code",
   "execution_count": 2,
   "metadata": {},
   "outputs": [],
   "source": [
    "import magpie.Magpie;\n",
    "import magpie.data.Dataset;\n",
    "import magpie.models.BaseModel;\n",
    "import magpie.utility.tools.BatchModelEvaluator;\n",
    "import magpie.data.materials.{CompositionDataset, CompositionEntry};\n",
    "import magpie.data.utilities.generators.PhaseDiagramCompositionEntryGenerator;\n",
    "import magpie.data.utilities.filters.{MultiFilter, CompositionSetDistanceFilter, ClassFilter, ClassProbabilityFilter};\n",
    "import magpie.data.utilities.modifiers.DiscreteToContinuousModifier;\n",
    "import magpie.optimization.rankers.ClassProbabilityRanker;\n",
    "import scala.collection.JavaConversions._;"
   ]
  },
  {
   "cell_type": "markdown",
   "metadata": {},
   "source": [
    "Define the parallelism for this task"
   ]
  },
  {
   "cell_type": "code",
   "execution_count": 3,
   "metadata": {},
   "outputs": [],
   "source": [
    "Magpie.NThreads = Runtime.getRuntime().availableProcessors();"
   ]
  },
  {
   "cell_type": "markdown",
   "metadata": {},
   "source": [
    "## Load in the Model\n",
    "First, load in the model (already trained) from disk"
   ]
  },
  {
   "cell_type": "code",
   "execution_count": 4,
   "metadata": {},
   "outputs": [],
   "source": [
    "val model = BaseModel.loadState(\"gfa-model.obj\")"
   ]
  },
  {
   "cell_type": "markdown",
   "metadata": {},
   "source": [
    "## Load in the Training Set\n",
    "Used for several tasks: defining the search space, generating features, and measuring how 'new' predictions are"
   ]
  },
  {
   "cell_type": "code",
   "execution_count": 5,
   "metadata": {},
   "outputs": [],
   "source": [
    "val trainData = Dataset.loadState(\"gfa-dataset.obj\").asInstanceOf[CompositionDataset]"
   ]
  },
  {
   "cell_type": "markdown",
   "metadata": {},
   "source": [
    "## Prepare the Search Space\n",
    "We want to search all ternary phase diagrams composed of any of the elements the training set. We will evaluate them at 5at% spacing"
   ]
  },
  {
   "cell_type": "code",
   "execution_count": 6,
   "metadata": {},
   "outputs": [],
   "source": [
    "val gen = new PhaseDiagramCompositionEntryGenerator();"
   ]
  },
  {
   "cell_type": "code",
   "execution_count": 7,
   "metadata": {},
   "outputs": [],
   "source": [
    "gen.setOrder(1, 3) // 1 - 3 possible components"
   ]
  },
  {
   "cell_type": "code",
   "execution_count": 8,
   "metadata": {},
   "outputs": [],
   "source": [
    "gen.setSize(51); // 51 elements per binary"
   ]
  },
  {
   "cell_type": "code",
   "execution_count": 9,
   "metadata": {},
   "outputs": [],
   "source": [
    "gen.setEvenSpacing(true)"
   ]
  },
  {
   "cell_type": "markdown",
   "metadata": {},
   "source": [
    "Get list of elements"
   ]
  },
  {
   "cell_type": "code",
   "execution_count": 10,
   "metadata": {},
   "outputs": [
    {
     "name": "stdout",
     "output_type": "stream",
     "text": [
      "Training set contained 51 elements\n"
     ]
    }
   ],
   "source": [
    "val elems = trainData.getEntries().flatMap(_.asInstanceOf[CompositionEntry].getElements()).map(i => i : java.lang.Integer).to[Set]\n",
    "println(s\"Training set contained ${elems.size} elements\")"
   ]
  },
  {
   "cell_type": "code",
   "execution_count": 11,
   "metadata": {},
   "outputs": [],
   "source": [
    "gen.setElementsByIndex(elems)"
   ]
  },
  {
   "cell_type": "markdown",
   "metadata": {},
   "source": [
    "## Prepare the Filters\n",
    "Our search space is large enough that storing it all in memory can be a problem. Here, we create filters to determine which entries we should keep"
   ]
  },
  {
   "cell_type": "code",
   "execution_count": 12,
   "metadata": {},
   "outputs": [],
   "source": [
    "val filter = new MultiFilter()\n",
    "filter.setExclude(false)"
   ]
  },
  {
   "cell_type": "markdown",
   "metadata": {},
   "source": [
    "### Filter 1: Only Get Entries with High Confidence\n",
    "Filter out entries where the confidence in forming a class is less than 0.95"
   ]
  },
  {
   "cell_type": "code",
   "execution_count": 13,
   "metadata": {},
   "outputs": [],
   "source": [
    "val probFilter = new ClassProbabilityFilter();\n",
    "probFilter.setThreshold(0.95)\n",
    "probFilter.setClassName(\"AM\")\n",
    "probFilter.setExclude(false)"
   ]
  },
  {
   "cell_type": "code",
   "execution_count": 14,
   "metadata": {},
   "outputs": [],
   "source": [
    "filter.addFilter(probFilter)"
   ]
  },
  {
   "cell_type": "markdown",
   "metadata": {},
   "source": [
    "### Filter 2: Remove Entries Similar to the Training Set\n",
    "Remove entries that are less than 30 at% (measured using the $L_1$ distance) from any glass-forming entry in the training set"
   ]
  },
  {
   "cell_type": "code",
   "execution_count": 15,
   "metadata": {},
   "outputs": [
    {
     "name": "stdout",
     "output_type": "stream",
     "text": [
      "Training data contains 3801 glass-forming entries\n"
     ]
    }
   ],
   "source": [
    "val glassFilter = new ClassFilter()\n",
    "glassFilter.setUseMeasured(true)\n",
    "glassFilter.setThreshold(0)\n",
    "glassFilter.setComparisonOperator(\"=\")\n",
    "glassFilter.setExclude(false)\n",
    "glassFilter.filter(trainData);\n",
    "println(s\"Training data contains ${trainData.NEntries} glass-forming entries\")"
   ]
  },
  {
   "cell_type": "code",
   "execution_count": 20,
   "metadata": {},
   "outputs": [],
   "source": [
    "val distFilter = new CompositionSetDistanceFilter()\n",
    "distFilter.setDistanceThreshold(0.3)\n",
    "distFilter.setCompositions(trainData)\n",
    "distFilter.setP(1)\n",
    "distFilter.setExclude(false)"
   ]
  },
  {
   "cell_type": "code",
   "execution_count": 17,
   "metadata": {},
   "outputs": [],
   "source": [
    "filter.addFilter(distFilter)"
   ]
  },
  {
   "cell_type": "markdown",
   "metadata": {},
   "source": [
    "## Create the Batch Generator\n",
    "We will evaluate entries in batches of $10^5$ to save on memory consumption. What this class does is automate the process of generating batches of entries in the search space, computing their features, using the ML model to classify them, and filtering out the desired predictions. "
   ]
  },
  {
   "cell_type": "code",
   "execution_count": 18,
   "metadata": {},
   "outputs": [],
   "source": [
    "val runner = new BatchModelEvaluator()"
   ]
  },
  {
   "cell_type": "code",
   "execution_count": 19,
   "metadata": {},
   "outputs": [],
   "source": [
    "runner.setBatchSize(10000)"
   ]
  },
  {
   "cell_type": "code",
   "execution_count": 20,
   "metadata": {},
   "outputs": [],
   "source": [
    "runner.setModel(model)"
   ]
  },
  {
   "cell_type": "markdown",
   "metadata": {},
   "source": [
    "## Run the Search!\n",
    "Evaluate all of the entries"
   ]
  },
  {
   "cell_type": "code",
   "execution_count": 21,
   "metadata": {},
   "outputs": [],
   "source": [
    "val searchResults = trainData.emptyClone()\n",
    "runner.evaluate(searchResults, gen, filter)"
   ]
  },
  {
   "cell_type": "code",
   "execution_count": 22,
   "metadata": {},
   "outputs": [
    {
     "name": "stdout",
     "output_type": "stream",
     "text": [
      "Found 73397 new predictions\n"
     ]
    }
   ],
   "source": [
    "println(s\"Found ${searchResults.NEntries} likely glasses\")"
   ]
  },
  {
   "cell_type": "markdown",
   "metadata": {},
   "source": [
    "Store the probabilities"
   ]
  },
  {
   "cell_type": "code",
   "execution_count": 23,
   "metadata": {},
   "outputs": [],
   "source": [
    "val mdfr = new DiscreteToContinuousModifier();\n",
    "mdfr.setClassName(\"AM\")\n",
    "mdfr.transform(searchResults)"
   ]
  },
  {
   "cell_type": "code",
   "execution_count": 24,
   "metadata": {},
   "outputs": [],
   "source": [
    "val filename = searchResults.saveCommand(\"new_glasses\", \"comp\")"
   ]
  },
  {
   "cell_type": "code",
   "execution_count": 25,
   "metadata": {},
   "outputs": [],
   "source": []
  }
 ],
 "metadata": {
  "kernelspec": {
   "display_name": "Apache Toree - Scala",
   "language": "scala",
   "name": "apache_toree_scala"
  },
  "language_info": {
   "file_extension": ".scala",
   "name": "scala",
   "version": "2.11.8"
  }
 },
 "nbformat": 4,
 "nbformat_minor": 2
}
