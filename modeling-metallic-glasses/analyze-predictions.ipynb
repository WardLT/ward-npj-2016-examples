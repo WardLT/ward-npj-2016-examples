{
 "cells": [
  {
   "cell_type": "markdown",
   "metadata": {},
   "source": [
    "# Analyze Prediction Results\n",
    "This notebook takes the output of `predict-new-glasses` and determines a few representative predictions"
   ]
  },
  {
   "cell_type": "code",
   "execution_count": 1,
   "metadata": {},
   "outputs": [],
   "source": [
    "import pandas as pd"
   ]
  },
  {
   "cell_type": "markdown",
   "metadata": {},
   "source": [
    "## Load in the Predictions\n",
    "`new_glasses.csv` contains the compositions and the certainty of the ML prediction"
   ]
  },
  {
   "cell_type": "code",
   "execution_count": 2,
   "metadata": {},
   "outputs": [],
   "source": [
    "data = pd.read_csv('new_glasses.csv').iloc[:,:-1] # Last column is a bug"
   ]
  },
  {
   "cell_type": "markdown",
   "metadata": {},
   "source": [
    "Compute the compositions (as string)"
   ]
  },
  {
   "cell_type": "code",
   "execution_count": 3,
   "metadata": {},
   "outputs": [],
   "source": [
    "elems = data.columns[:-4]"
   ]
  },
  {
   "cell_type": "code",
   "execution_count": 4,
   "metadata": {},
   "outputs": [],
   "source": [
    "data['composition'] = data[elems].apply(lambda x: ''.join('%s%d'%(e,x*100) for e,x in x.items() if x > 0), axis=1)"
   ]
  },
  {
   "cell_type": "markdown",
   "metadata": {},
   "source": [
    "Compute the system"
   ]
  },
  {
   "cell_type": "code",
   "execution_count": 5,
   "metadata": {},
   "outputs": [],
   "source": [
    "data['system'] = data[elems].apply(lambda x: '-'.join(sorted(e for e,x in x.items() if x > 0)), axis=1)"
   ]
  },
  {
   "cell_type": "code",
   "execution_count": 6,
   "metadata": {},
   "outputs": [
    {
     "data": {
      "text/html": [
       "<div>\n",
       "<table border=\"1\" class=\"dataframe\">\n",
       "  <thead>\n",
       "    <tr style=\"text-align: right;\">\n",
       "      <th></th>\n",
       "      <th>B</th>\n",
       "      <th>Mg</th>\n",
       "      <th>Al</th>\n",
       "      <th>Si</th>\n",
       "      <th>P</th>\n",
       "      <th>Ca</th>\n",
       "      <th>Sc</th>\n",
       "      <th>Ti</th>\n",
       "      <th>V</th>\n",
       "      <th>Cr</th>\n",
       "      <th>...</th>\n",
       "      <th>Pt</th>\n",
       "      <th>Au</th>\n",
       "      <th>Pb</th>\n",
       "      <th>U</th>\n",
       "      <th>gfa_measured</th>\n",
       "      <th>gfa_predicted</th>\n",
       "      <th>P(gfa=AM)_measured</th>\n",
       "      <th>P(gfa=AM)_predicted</th>\n",
       "      <th>composition</th>\n",
       "      <th>system</th>\n",
       "    </tr>\n",
       "  </thead>\n",
       "  <tbody>\n",
       "    <tr>\n",
       "      <th>0</th>\n",
       "      <td>0.0</td>\n",
       "      <td>0.0</td>\n",
       "      <td>0.0</td>\n",
       "      <td>0.0</td>\n",
       "      <td>0.0</td>\n",
       "      <td>0.0</td>\n",
       "      <td>0.0</td>\n",
       "      <td>0.0</td>\n",
       "      <td>0.0</td>\n",
       "      <td>0.0</td>\n",
       "      <td>...</td>\n",
       "      <td>0.0</td>\n",
       "      <td>0.0</td>\n",
       "      <td>0.0</td>\n",
       "      <td>0.0</td>\n",
       "      <td>None</td>\n",
       "      <td>0.0</td>\n",
       "      <td>None</td>\n",
       "      <td>0.965</td>\n",
       "      <td>Ge26Hf74</td>\n",
       "      <td>Ge-Hf</td>\n",
       "    </tr>\n",
       "    <tr>\n",
       "      <th>1</th>\n",
       "      <td>0.0</td>\n",
       "      <td>0.0</td>\n",
       "      <td>0.0</td>\n",
       "      <td>0.0</td>\n",
       "      <td>0.0</td>\n",
       "      <td>0.0</td>\n",
       "      <td>0.0</td>\n",
       "      <td>0.0</td>\n",
       "      <td>0.0</td>\n",
       "      <td>0.0</td>\n",
       "      <td>...</td>\n",
       "      <td>0.0</td>\n",
       "      <td>0.0</td>\n",
       "      <td>0.0</td>\n",
       "      <td>0.0</td>\n",
       "      <td>None</td>\n",
       "      <td>0.0</td>\n",
       "      <td>None</td>\n",
       "      <td>0.955</td>\n",
       "      <td>Ge26Gd74</td>\n",
       "      <td>Gd-Ge</td>\n",
       "    </tr>\n",
       "    <tr>\n",
       "      <th>2</th>\n",
       "      <td>0.0</td>\n",
       "      <td>0.0</td>\n",
       "      <td>0.0</td>\n",
       "      <td>0.0</td>\n",
       "      <td>0.0</td>\n",
       "      <td>0.0</td>\n",
       "      <td>0.0</td>\n",
       "      <td>0.0</td>\n",
       "      <td>0.0</td>\n",
       "      <td>0.0</td>\n",
       "      <td>...</td>\n",
       "      <td>0.0</td>\n",
       "      <td>0.0</td>\n",
       "      <td>0.0</td>\n",
       "      <td>0.0</td>\n",
       "      <td>None</td>\n",
       "      <td>0.0</td>\n",
       "      <td>None</td>\n",
       "      <td>0.960</td>\n",
       "      <td>Ge28Hf72</td>\n",
       "      <td>Ge-Hf</td>\n",
       "    </tr>\n",
       "    <tr>\n",
       "      <th>3</th>\n",
       "      <td>0.0</td>\n",
       "      <td>0.0</td>\n",
       "      <td>0.0</td>\n",
       "      <td>0.0</td>\n",
       "      <td>0.0</td>\n",
       "      <td>0.0</td>\n",
       "      <td>0.0</td>\n",
       "      <td>0.0</td>\n",
       "      <td>0.0</td>\n",
       "      <td>0.0</td>\n",
       "      <td>...</td>\n",
       "      <td>0.0</td>\n",
       "      <td>0.0</td>\n",
       "      <td>0.0</td>\n",
       "      <td>0.0</td>\n",
       "      <td>None</td>\n",
       "      <td>0.0</td>\n",
       "      <td>None</td>\n",
       "      <td>0.955</td>\n",
       "      <td>Ge28Gd72</td>\n",
       "      <td>Gd-Ge</td>\n",
       "    </tr>\n",
       "    <tr>\n",
       "      <th>4</th>\n",
       "      <td>0.0</td>\n",
       "      <td>0.0</td>\n",
       "      <td>0.0</td>\n",
       "      <td>0.0</td>\n",
       "      <td>0.0</td>\n",
       "      <td>0.0</td>\n",
       "      <td>0.0</td>\n",
       "      <td>0.0</td>\n",
       "      <td>0.0</td>\n",
       "      <td>0.0</td>\n",
       "      <td>...</td>\n",
       "      <td>0.0</td>\n",
       "      <td>0.0</td>\n",
       "      <td>0.0</td>\n",
       "      <td>0.0</td>\n",
       "      <td>None</td>\n",
       "      <td>0.0</td>\n",
       "      <td>None</td>\n",
       "      <td>0.955</td>\n",
       "      <td>Ge30Hf70</td>\n",
       "      <td>Ge-Hf</td>\n",
       "    </tr>\n",
       "  </tbody>\n",
       "</table>\n",
       "<p>5 rows × 53 columns</p>\n",
       "</div>"
      ],
      "text/plain": [
       "     B   Mg   Al   Si    P   Ca   Sc   Ti    V   Cr   ...     Pt   Au   Pb  \\\n",
       "0  0.0  0.0  0.0  0.0  0.0  0.0  0.0  0.0  0.0  0.0   ...    0.0  0.0  0.0   \n",
       "1  0.0  0.0  0.0  0.0  0.0  0.0  0.0  0.0  0.0  0.0   ...    0.0  0.0  0.0   \n",
       "2  0.0  0.0  0.0  0.0  0.0  0.0  0.0  0.0  0.0  0.0   ...    0.0  0.0  0.0   \n",
       "3  0.0  0.0  0.0  0.0  0.0  0.0  0.0  0.0  0.0  0.0   ...    0.0  0.0  0.0   \n",
       "4  0.0  0.0  0.0  0.0  0.0  0.0  0.0  0.0  0.0  0.0   ...    0.0  0.0  0.0   \n",
       "\n",
       "     U  gfa_measured  gfa_predicted  P(gfa=AM)_measured  P(gfa=AM)_predicted  \\\n",
       "0  0.0          None            0.0                None                0.965   \n",
       "1  0.0          None            0.0                None                0.955   \n",
       "2  0.0          None            0.0                None                0.960   \n",
       "3  0.0          None            0.0                None                0.955   \n",
       "4  0.0          None            0.0                None                0.955   \n",
       "\n",
       "   composition  system  \n",
       "0     Ge26Hf74   Ge-Hf  \n",
       "1     Ge26Gd74   Gd-Ge  \n",
       "2     Ge28Hf72   Ge-Hf  \n",
       "3     Ge28Gd72   Gd-Ge  \n",
       "4     Ge30Hf70   Ge-Hf  \n",
       "\n",
       "[5 rows x 53 columns]"
      ]
     },
     "execution_count": 6,
     "metadata": {},
     "output_type": "execute_result"
    }
   ],
   "source": [
    "data.head(5)"
   ]
  },
  {
   "cell_type": "markdown",
   "metadata": {},
   "source": [
    "## Determine the Top Picks\n",
    "Get the entries with the highest certainity, and only pick one per system"
   ]
  },
  {
   "cell_type": "code",
   "execution_count": 8,
   "metadata": {},
   "outputs": [],
   "source": [
    "top_alloys = data.sort_values('P(gfa=AM)_predicted', ascending=False).drop_duplicates('system', 'first')"
   ]
  },
  {
   "cell_type": "markdown",
   "metadata": {},
   "source": [
    "Print all of the top alloys"
   ]
  },
  {
   "cell_type": "code",
   "execution_count": 9,
   "metadata": {},
   "outputs": [
    {
     "data": {
      "text/html": [
       "<div>\n",
       "<table border=\"1\" class=\"dataframe\">\n",
       "  <thead>\n",
       "    <tr style=\"text-align: right;\">\n",
       "      <th></th>\n",
       "      <th>composition</th>\n",
       "      <th>system</th>\n",
       "      <th>P(gfa=AM)_predicted</th>\n",
       "    </tr>\n",
       "  </thead>\n",
       "  <tbody>\n",
       "    <tr>\n",
       "      <th>11260</th>\n",
       "      <td>Cr34Ni38Hf28</td>\n",
       "      <td>Cr-Hf-Ni</td>\n",
       "      <td>1.0</td>\n",
       "    </tr>\n",
       "    <tr>\n",
       "      <th>56755</th>\n",
       "      <td>Fe28Ni20Hf52</td>\n",
       "      <td>Fe-Hf-Ni</td>\n",
       "      <td>1.0</td>\n",
       "    </tr>\n",
       "    <tr>\n",
       "      <th>51362</th>\n",
       "      <td>Co32Ni34Hf34</td>\n",
       "      <td>Co-Hf-Ni</td>\n",
       "      <td>1.0</td>\n",
       "    </tr>\n",
       "    <tr>\n",
       "      <th>49972</th>\n",
       "      <td>Co40Zr24Rh36</td>\n",
       "      <td>Co-Rh-Zr</td>\n",
       "      <td>1.0</td>\n",
       "    </tr>\n",
       "    <tr>\n",
       "      <th>60526</th>\n",
       "      <td>Co54Zr24Nb22</td>\n",
       "      <td>Co-Nb-Zr</td>\n",
       "      <td>1.0</td>\n",
       "    </tr>\n",
       "    <tr>\n",
       "      <th>59746</th>\n",
       "      <td>Fe24Co28Hf48</td>\n",
       "      <td>Co-Fe-Hf</td>\n",
       "      <td>1.0</td>\n",
       "    </tr>\n",
       "    <tr>\n",
       "      <th>61692</th>\n",
       "      <td>Si34Y22Hf44</td>\n",
       "      <td>Hf-Si-Y</td>\n",
       "      <td>1.0</td>\n",
       "    </tr>\n",
       "    <tr>\n",
       "      <th>52599</th>\n",
       "      <td>Ni32Zr28Hf40</td>\n",
       "      <td>Hf-Ni-Zr</td>\n",
       "      <td>1.0</td>\n",
       "    </tr>\n",
       "  </tbody>\n",
       "</table>\n",
       "</div>"
      ],
      "text/plain": [
       "        composition    system  P(gfa=AM)_predicted\n",
       "11260  Cr34Ni38Hf28  Cr-Hf-Ni                  1.0\n",
       "56755  Fe28Ni20Hf52  Fe-Hf-Ni                  1.0\n",
       "51362  Co32Ni34Hf34  Co-Hf-Ni                  1.0\n",
       "49972  Co40Zr24Rh36  Co-Rh-Zr                  1.0\n",
       "60526  Co54Zr24Nb22  Co-Nb-Zr                  1.0\n",
       "59746  Fe24Co28Hf48  Co-Fe-Hf                  1.0\n",
       "61692   Si34Y22Hf44   Hf-Si-Y                  1.0\n",
       "52599  Ni32Zr28Hf40  Hf-Ni-Zr                  1.0"
      ]
     },
     "execution_count": 9,
     "metadata": {},
     "output_type": "execute_result"
    }
   ],
   "source": [
    "top_alloys.head(8)[['composition', 'system', 'P(gfa=AM)_predicted']]"
   ]
  },
  {
   "cell_type": "markdown",
   "metadata": {},
   "source": [
    "Most of the top 8 contain Hf. To give some more variety, let's filter out the Hf entries"
   ]
  },
  {
   "cell_type": "code",
   "execution_count": 10,
   "metadata": {},
   "outputs": [
    {
     "data": {
      "text/html": [
       "<div>\n",
       "<table border=\"1\" class=\"dataframe\">\n",
       "  <thead>\n",
       "    <tr style=\"text-align: right;\">\n",
       "      <th></th>\n",
       "      <th>composition</th>\n",
       "      <th>system</th>\n",
       "      <th>P(gfa=AM)_predicted</th>\n",
       "    </tr>\n",
       "  </thead>\n",
       "  <tbody>\n",
       "    <tr>\n",
       "      <th>49972</th>\n",
       "      <td>Co40Zr24Rh36</td>\n",
       "      <td>Co-Rh-Zr</td>\n",
       "      <td>1.000</td>\n",
       "    </tr>\n",
       "    <tr>\n",
       "      <th>60526</th>\n",
       "      <td>Co54Zr24Nb22</td>\n",
       "      <td>Co-Nb-Zr</td>\n",
       "      <td>1.000</td>\n",
       "    </tr>\n",
       "    <tr>\n",
       "      <th>54069</th>\n",
       "      <td>Ni44Ta26W30</td>\n",
       "      <td>Ni-Ta-W</td>\n",
       "      <td>1.000</td>\n",
       "    </tr>\n",
       "    <tr>\n",
       "      <th>21039</th>\n",
       "      <td>Fe26Co30Zr44</td>\n",
       "      <td>Co-Fe-Zr</td>\n",
       "      <td>1.000</td>\n",
       "    </tr>\n",
       "    <tr>\n",
       "      <th>3720</th>\n",
       "      <td>B20Fe54Sm26</td>\n",
       "      <td>B-Fe-Sm</td>\n",
       "      <td>1.000</td>\n",
       "    </tr>\n",
       "    <tr>\n",
       "      <th>61597</th>\n",
       "      <td>Co40Zr22Ru38</td>\n",
       "      <td>Co-Ru-Zr</td>\n",
       "      <td>1.000</td>\n",
       "    </tr>\n",
       "    <tr>\n",
       "      <th>51215</th>\n",
       "      <td>Cr28Co38Zr34</td>\n",
       "      <td>Co-Cr-Zr</td>\n",
       "      <td>1.000</td>\n",
       "    </tr>\n",
       "    <tr>\n",
       "      <th>8091</th>\n",
       "      <td>Ni52Zr6W42</td>\n",
       "      <td>Ni-W-Zr</td>\n",
       "      <td>0.995</td>\n",
       "    </tr>\n",
       "  </tbody>\n",
       "</table>\n",
       "</div>"
      ],
      "text/plain": [
       "        composition    system  P(gfa=AM)_predicted\n",
       "49972  Co40Zr24Rh36  Co-Rh-Zr                1.000\n",
       "60526  Co54Zr24Nb22  Co-Nb-Zr                1.000\n",
       "54069   Ni44Ta26W30   Ni-Ta-W                1.000\n",
       "21039  Fe26Co30Zr44  Co-Fe-Zr                1.000\n",
       "3720    B20Fe54Sm26   B-Fe-Sm                1.000\n",
       "61597  Co40Zr22Ru38  Co-Ru-Zr                1.000\n",
       "51215  Cr28Co38Zr34  Co-Cr-Zr                1.000\n",
       "8091     Ni52Zr6W42   Ni-W-Zr                0.995"
      ]
     },
     "execution_count": 10,
     "metadata": {},
     "output_type": "execute_result"
    }
   ],
   "source": [
    "top_alloys.query('Hf == 0').head(8)[['composition', 'system', 'P(gfa=AM)_predicted']]"
   ]
  },
  {
   "cell_type": "markdown",
   "metadata": {},
   "source": [
    "Most of these alloys are different than those reported in the paper, which can be attributed to the randomness inherent in decision trees and differences in versions between the version of Magpie in the SI and the one used originally in the paper."
   ]
  },
  {
   "cell_type": "code",
   "execution_count": null,
   "metadata": {},
   "outputs": [],
   "source": []
  }
 ],
 "metadata": {
  "kernelspec": {
   "display_name": "Python 3",
   "language": "python",
   "name": "python3"
  },
  "language_info": {
   "codemirror_mode": {
    "name": "ipython",
    "version": 3
   },
   "file_extension": ".py",
   "mimetype": "text/x-python",
   "name": "python",
   "nbconvert_exporter": "python",
   "pygments_lexer": "ipython3",
   "version": "3.6.2"
  }
 },
 "nbformat": 4,
 "nbformat_minor": 2
}
